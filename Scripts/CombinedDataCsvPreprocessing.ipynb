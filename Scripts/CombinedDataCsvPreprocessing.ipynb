{
 "metadata": {
  "language_info": {
   "codemirror_mode": {
    "name": "ipython",
    "version": 3
   },
   "file_extension": ".py",
   "mimetype": "text/x-python",
   "name": "python",
   "nbconvert_exporter": "python",
   "pygments_lexer": "ipython3",
   "version": "3.8.0-final"
  },
  "orig_nbformat": 2,
  "kernelspec": {
   "name": "Python 3.8.0 64-bit ('env': venv)",
   "display_name": "Python 3.8.0 64-bit ('env': venv)",
   "metadata": {
    "interpreter": {
     "hash": "0a4c4745ad4b634a696b3427c4afc376eafe1af543e5c23d612bc54f320fb0ac"
    }
   }
  }
 },
 "nbformat": 4,
 "nbformat_minor": 2,
 "cells": [
  {
   "cell_type": "code",
   "execution_count": 1,
   "metadata": {},
   "outputs": [],
   "source": [
    "import time\n",
    "import gc\n",
    "import csv\n",
    "import os"
   ]
  },
  {
   "cell_type": "code",
   "execution_count": 16,
   "metadata": {},
   "outputs": [
    {
     "output_type": "stream",
     "name": "stdout",
     "text": [
      "Time taken:96.85322403907776 seconds\n"
     ]
    }
   ],
   "source": [
    "start_time = time.time()\n",
    "\n",
    "for n in range(1,5):\n",
    "    read_path_csv = './NetflixPrizeData/combined_data_'+str(n)+'.txt'\n",
    "    write_path_csv = './NetflixPrizeData/combined_data_'+str(n)+'_v2.csv'\n",
    "\n",
    "    with open(read_path_csv,'r') as csvinput,open(write_path_csv,'w') as csvoutput:\n",
    "        writer = csv.writer(csvoutput, lineterminator='\\n')\n",
    "        reader = csv.reader(csvinput)\n",
    "        movieID = ''\n",
    "        for i,row in enumerate(reader):\n",
    "            if(row[0].strip().endswith(':')):\n",
    "                movieID = row[0].strip()[:-1]\n",
    "            else:\n",
    "                row.append(movieID)\n",
    "                writer.writerow(row)\n",
    "\n",
    "print('Time taken:'+str((time.time() - start_time))+' seconds')   "
   ]
  },
  {
   "cell_type": "code",
   "execution_count": 19,
   "metadata": {},
   "outputs": [
    {
     "output_type": "stream",
     "name": "stdout",
     "text": [
      "/Users/Subbalakshmi/Desktop/archive/combined_data_1_v2.csv\n____________________\n['1488844', '3', '2005-09-06', '1']\n['822109', '5', '2005-05-13', '1']\n['885013', '4', '2005-10-19', '1']\n['30878', '4', '2005-12-26', '1']\n['823519', '3', '2004-05-03', '1']\n['893988', '3', '2005-11-17', '1']\n['124105', '4', '2004-08-05', '1']\n['1248029', '3', '2004-04-22', '1']\n['1842128', '4', '2004-05-09', '1']\n['2238063', '3', '2005-05-11', '1']\n['1503895', '4', '2005-05-19', '1']\n['2207774', '5', '2005-06-06', '1']\n/Users/Subbalakshmi/Desktop/archive/combined_data_2_v2.csv\n____________________\n['2532865', '4', '2005-07-26', '4500']\n['573364', '3', '2005-06-20', '4500']\n['1696725', '3', '2004-02-27', '4500']\n['1253431', '3', '2004-03-31', '4500']\n['1265574', '2', '2003-09-01', '4500']\n['1049643', '1', '2003-11-15', '4500']\n['1601348', '4', '2005-04-05', '4500']\n['1495289', '5', '2005-07-09', '4500']\n['1254903', '3', '2003-09-02', '4500']\n['2604070', '3', '2005-05-15', '4500']\n['1006473', '5', '2005-05-23', '4500']\n['1989892', '3', '2004-04-06', '4500']\n/Users/Subbalakshmi/Desktop/archive/combined_data_3_v2.csv\n____________________\n['1277134', '1', '2003-12-02', '9211']\n['2435457', '2', '2005-06-01', '9211']\n['2338545', '3', '2001-02-17', '9211']\n['2218269', '1', '2002-12-27', '9211']\n['441153', '4', '2002-10-11', '9211']\n['1921624', '2', '2005-08-31', '9211']\n['2096652', '3', '2004-05-31', '9211']\n['818736', '2', '2004-02-17', '9211']\n['284560', '3', '2003-07-27', '9211']\n['1211224', '5', '2004-05-08', '9211']\n['1984086', '1', '2004-09-16', '9211']\n['1389539', '3', '2005-06-07', '9211']\n/Users/Subbalakshmi/Desktop/archive/combined_data_4_v2.csv\n____________________\n['2385003', '4', '2004-07-08', '13368']\n['659432', '3', '2005-03-16', '13368']\n['751812', '2', '2002-12-16', '13368']\n['2625420', '2', '2004-05-25', '13368']\n['1650301', '1', '2005-08-30', '13368']\n['2269227', '4', '2005-10-27', '13368']\n['2220672', '4', '2002-08-19', '13368']\n['2500511', '4', '2003-08-11', '13368']\n['1452058', '2', '2005-01-29', '13368']\n['1624891', '3', '2002-07-27', '13368']\n['970031', '3', '2004-04-14', '13368']\n['345673', '4', '2005-04-07', '13368']\nTime taken:0.02859330177307129 seconds\n"
     ]
    }
   ],
   "source": [
    "start_time = time.time()\n",
    "for n in range(1,5):\n",
    "    read_path_csv = './NetflixPrizeData/combined_data_'+str(n)+'_v2.csv'\n",
    "    print(read_path_csv)\n",
    "    print('____________________')\n",
    "    with open(read_path_csv,'r') as csvinput:\n",
    "        reader = csv.reader(csvinput)\n",
    "        for i,row in enumerate(reader):\n",
    "            print(row)\n",
    "            if(i>10):\n",
    "                break\n",
    "\n",
    "print('Time taken:'+str((time.time() - start_time))+' seconds')   "
   ]
  }
 ]
}